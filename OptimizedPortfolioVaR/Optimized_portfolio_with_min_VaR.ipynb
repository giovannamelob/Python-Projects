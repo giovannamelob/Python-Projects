{
  "nbformat": 4,
  "nbformat_minor": 0,
  "metadata": {
    "colab": {
      "provenance": []
    },
    "kernelspec": {
      "name": "python3",
      "display_name": "Python 3"
    },
    "language_info": {
      "name": "python"
    }
  },
  "cells": [
    {
      "cell_type": "code",
      "source": [
        "Final Project - Level 4 Assignment\n",
        "\n",
        "Student: Giovanna Melo Benites"
      ],
      "metadata": {
        "id": "jjKOSq5BivYJ"
      },
      "execution_count": null,
      "outputs": []
    },
    {
      "cell_type": "code",
      "execution_count": null,
      "metadata": {
        "id": "a-H1QG9RZalO"
      },
      "outputs": [],
      "source": [
        "import yfinance as yf\n",
        "import numpy as np\n",
        "import pandas as pd\n",
        "from scipy.optimize import minimize"
      ]
    },
    {
      "cell_type": "code",
      "source": [
        "tickers = ['NVDA','AAPL', 'MSFT', 'GOOGL', 'AMZN', 'TSLA', 'ORCL', 'ABT', 'JNJ', 'WMT',\n",
        "           'JPM', 'MMM', 'PG', 'UNH', 'DIS', 'AXP', 'PYPL', 'BAC', 'VZ',\n",
        "           'ADBE', 'CMCSA', 'NFLX', 'KO', 'NKE', 'MRK', 'PEP', 'T', 'PFE', 'INTC', 'CSCO']\n",
        "\n",
        "# Import historical data\n",
        "data = yf.download(tickers, start=\"2021-04-29\", end=\"2024-04-29\")['Adj Close']\n",
        "\n",
        "# Calculate daily log returns\n",
        "returns = np.log(data/data.shift(1))\n",
        "\n",
        "# Check for NA values, forward fill them if necessary and drop the others\n",
        "# print(log_returns.isna().sum())\n",
        "returns = returns.ffill()\n",
        "returns = returns.dropna()"
      ],
      "metadata": {
        "id": "VnAxI5xKZikA",
        "colab": {
          "base_uri": "https://localhost:8080/"
        },
        "outputId": "fa6ec9ff-ab23-4e6d-ef29-d018ffcb2329"
      },
      "execution_count": null,
      "outputs": [
        {
          "output_type": "stream",
          "name": "stderr",
          "text": [
            "[*********************100%%**********************]  30 of 30 completed\n"
          ]
        }
      ]
    },
    {
      "cell_type": "code",
      "source": [
        "# Calculate portfolio_returns and VaR\n",
        "def portfolio_var(weights, returns, confidence_level=0.95):\n",
        "    portfolio_return = returns.dot(weights)   # matrix multiplication between the returns matrix and the weights vector\n",
        "\n",
        "    var_level = 1 - confidence_level\n",
        "    VaR = np.percentile(portfolio_return, var_level * 100)\n",
        "\n",
        "    return VaR\n",
        "\n",
        "# Minimize VaR -- This function works like Solver on Excel\n",
        "result = minimize(fun=portfolio_var, x0=initial_weights, args=(returns, 0.95),\n",
        "                  method='SLSQP', bounds=bounds, constraints=constraints)\n",
        "  # minimize function portfolio_var by changing initial_weights\n",
        "  # args = arguments to the portfolio_var function\n",
        "  # 'SLSQP' stands for Sequential Least Squares Programming\n",
        "\n",
        "# Check if the minimization was successful\n",
        "# result.success == True\n",
        "\n",
        "optimized_weights = result.x\n",
        "\n",
        "print(\"Optimized Weights:\", optimized_weights)\n",
        "print(\"Minimized Portfolio VaR:\", portfolio_var(optimized_weights, returns))\n"
      ],
      "metadata": {
        "id": "LTeihQlnZ-RR",
        "colab": {
          "base_uri": "https://localhost:8080/"
        },
        "outputId": "f96eb3fa-85ce-44ff-b181-d59155632e0c"
      },
      "execution_count": null,
      "outputs": [
        {
          "output_type": "stream",
          "name": "stdout",
          "text": [
            "Optimized Weights: [0.00000000e+00 2.27357196e-16 3.29749249e-14 2.27080724e-15\n",
            " 8.97367033e-15 5.60153052e-16 7.92621668e-16 1.36385518e-15\n",
            " 0.00000000e+00 0.00000000e+00 2.32016216e-15 4.12013210e-16\n",
            " 0.00000000e+00 7.98094772e-16 1.10428194e-15 2.86177027e-15\n",
            " 0.00000000e+00 0.00000000e+00 2.73567654e-14 1.20058098e-13\n",
            " 1.35456132e-16 3.26705055e-16 0.00000000e+00 1.88338093e-16\n",
            " 0.00000000e+00 6.11064476e-15 1.00000000e+00 0.00000000e+00\n",
            " 2.47216386e-16 3.41742219e-16]\n",
            "Minimized Portfolio VaR: -0.06298372443743062\n"
          ]
        }
      ]
    },
    {
      "cell_type": "code",
      "source": [
        "# Bonus Steps\n",
        "\n",
        "# Calculate the minimized VaR with optimized weights\n",
        "minimized_VaR = portfolio_var(result.x, returns, 0.95)\n",
        "print(\"Minimized Portfolio VaR:\", minimized_VaR)\n",
        "\n",
        "# Calculate Expected Return for the optimized portfolio (optional)\n",
        "expected_return = np.mean(returns.dot(result.x))\n",
        "print(\"Expected Return of the Optimized Portfolio:\", expected_return)"
      ],
      "metadata": {
        "colab": {
          "base_uri": "https://localhost:8080/"
        },
        "id": "8xOFfeH8fGtv",
        "outputId": "f0f4988b-ebea-462d-d500-749e3837ad4d"
      },
      "execution_count": null,
      "outputs": [
        {
          "output_type": "stream",
          "name": "stdout",
          "text": [
            "Minimized Portfolio VaR: -0.06298372443743062\n",
            "Expected Return of the Optimized Portfolio: -0.00038960207829006054\n"
          ]
        }
      ]
    }
  ]
}