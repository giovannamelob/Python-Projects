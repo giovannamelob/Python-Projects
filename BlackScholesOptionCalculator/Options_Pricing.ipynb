{
  "nbformat": 4,
  "nbformat_minor": 0,
  "metadata": {
    "colab": {
      "provenance": []
    },
    "kernelspec": {
      "name": "python3",
      "display_name": "Python 3"
    },
    "language_info": {
      "name": "python"
    }
  },
  "cells": [
    {
      "cell_type": "markdown",
      "source": [
        "# Vanilla Option Pricing"
      ],
      "metadata": {
        "id": "q6HsigU_LQY5"
      }
    },
    {
      "cell_type": "code",
      "execution_count": null,
      "metadata": {
        "colab": {
          "base_uri": "https://localhost:8080/"
        },
        "id": "EjQZBWOq3V_7",
        "outputId": "cd8d69d9-d7a9-4f02-e43d-2b6b60d7f736"
      },
      "outputs": [
        {
          "output_type": "stream",
          "name": "stdout",
          "text": [
            "Black Scholes Option Price for CALL ATM:  4.94\n"
          ]
        }
      ],
      "source": [
        "from datetime import datetime\n",
        "import time\n",
        "from scipy.stats import norm\n",
        "import numpy as np\n",
        "\n",
        "t = datetime(2022,3,1)\n",
        "T2 = datetime(2022,12,31) #Maturity\n",
        "\n",
        "# Initialise parameters\n",
        "S0 = 130                # initial stock price\n",
        "K0 = 130                # strike price\n",
        "T0 = ((T2-t).days)/365     # time to maturity in years\n",
        "r0 = 0.02                   # annual risk-free rate\n",
        "vol = 0.08              # volatility (%)\n",
        "q0=0.0\n",
        "\n",
        "def blackScholes(r, S, K, T, sigma, type=\"c\"):\n",
        "    \"Calculate BS price of call/put\"\n",
        "    d1 = (np.log(S/K) + (r + sigma**2/2)*T)/(sigma*np.sqrt(T))\n",
        "    d2 = d1 - sigma*np.sqrt(T)\n",
        "    try:\n",
        "        if type == \"c\":\n",
        "            price = S*norm.cdf(d1, 0, 1) - K*np.exp(-r*T)*norm.cdf(d2, 0, 1)\n",
        "        elif type == \"p\":\n",
        "            price = K*np.exp(-r*T)*norm.cdf(-d2, 0, 1) - S*norm.cdf(-d1, 0, 1)\n",
        "        return price\n",
        "    except:\n",
        "        print(\"Please confirm option type, either 'c' for Call or 'p' for Put!\")\n",
        "print(\"Black Scholes Option Price for CALL ATM: \", round(blackScholes(r0, S0, K0, T0, vol, \"c\"),2))"
      ]
    },
    {
      "cell_type": "code",
      "source": [
        "S0 = 131            # initial stock price\n",
        "K = 130              # strike price\n",
        "T = ((T2-t).days)/365     # time to maturity in years\n",
        "r = 0.02                  # annual risk-free rate\n",
        "vol = 0.08             # volatility (%)\n",
        "q=0.0\n",
        "\n",
        "def blackScholes(r, S, K, T, sigma, type=\"c\"):\n",
        "    \"Calculate BS price of call/put\"\n",
        "    d1 = (np.log(S/K) + (r + sigma**2/2)*T)/(sigma*np.sqrt(T))\n",
        "    d2 = d1 - sigma*np.sqrt(T)\n",
        "    try:\n",
        "        if type == \"c\":\n",
        "            price = S*norm.cdf(d1, 0, 1) - K*np.exp(-r*T)*norm.cdf(d2, 0, 1)\n",
        "        elif type == \"p\":\n",
        "            price = K*np.exp(-r*T)*norm.cdf(-d2, 0, 1) - S*norm.cdf(-d1, 0, 1)\n",
        "        return price\n",
        "    except:\n",
        "        print(\"Please confirm option type, either 'c' for Call or 'p' for Put!\")\n",
        "print(\"Black Scholes Option Price for CALL ATM: \", round(blackScholes(r, S0, K, T, vol, \"c\"),2))\n",
        "\n",
        "def blackScholes(r, S, K, T, sigma, type=\"p\"):\n",
        "    \"Calculate BS price of call/put\"\n",
        "    d1 = (np.log(S/K) + (r + sigma**2/2)*T)/(sigma*np.sqrt(T))\n",
        "    d2 = d1 - sigma*np.sqrt(T)\n",
        "    try:\n",
        "        if type == \"c\":\n",
        "            price = S*norm.cdf(d1, 0, 1) - K*np.exp(-r*T)*norm.cdf(d2, 0, 1)\n",
        "        elif type == \"p\":\n",
        "            price = K*np.exp(-r*T)*norm.cdf(-d2, 0, 1) - S*norm.cdf(-d1, 0, 1)\n",
        "        return price\n",
        "    except:\n",
        "        print(\"Please confirm option type, either 'c' for Call or 'p' for Put!\")\n",
        "print(\"Black Scholes Option Price for PUT ATM: \", round(blackScholes(r, S0, K, T, vol, \"p\"),2))"
      ],
      "metadata": {
        "colab": {
          "base_uri": "https://localhost:8080/"
        },
        "id": "nTqEJNJY3bSS",
        "outputId": "49bf757c-3f17-4116-c6b6-1ad47ef0ed3a"
      },
      "execution_count": null,
      "outputs": [
        {
          "output_type": "stream",
          "name": "stdout",
          "text": [
            "Black Scholes Option Price for CALL ATM:  5.56\n",
            "Black Scholes Option Price for PUT ATM:  2.41\n"
          ]
        }
      ]
    }
  ]
}